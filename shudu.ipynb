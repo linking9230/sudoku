{
 "cells": [
  {
   "cell_type": "code",
   "execution_count": 1,
   "metadata": {},
   "outputs": [],
   "source": [
    "import pandas as pd\n",
    "import numpy as np\n"
   ]
  },
  {
   "cell_type": "code",
   "execution_count": 17,
   "metadata": {},
   "outputs": [
    {
     "name": "stdout",
     "output_type": "stream",
     "text": [
      "[[0 9 0 3 0 0 0 0 0]\n",
      " [0 0 0 0 2 9 0 0 1]\n",
      " [6 0 0 0 0 0 0 0 7]\n",
      " [0 7 0 0 0 0 0 1 0]\n",
      " [5 0 0 0 0 0 0 6 4]\n",
      " [0 0 0 8 0 4 0 0 9]\n",
      " [0 1 0 2 0 0 6 0 0]\n",
      " [7 8 0 0 9 0 0 0 0]\n",
      " [0 0 4 0 5 0 0 0 3]]\n",
      "[0 9 0 3 0 0 0 0 0 0 0 0 0 2 9 0 0 1 6 0 0 0 0 0 0 0 7 0 7 0 0 0 0 0 1 0 5\n",
      " 0 0 0 0 0 0 6 4 0 0 0 8 0 4 0 0 9 0 1 0 2 0 0 6 0 0 7 8 0 0 9 0 0 0 0 0 0\n",
      " 4 0 5 0 0 0 3]\n"
     ]
    }
   ],
   "source": [
    "m=pd.read_csv('sample3.csv',index_col=None,header=None)\n",
    "m=m.values\n",
    "print(m)\n",
    "\n",
    "n=m.flatten()\n",
    "print(n)"
   ]
  },
  {
   "cell_type": "code",
   "execution_count": null,
   "metadata": {},
   "outputs": [],
   "source": [
    "[[8 0 0 0 0 0 0 0 0]\n",
    " [0 0 3 6 0 0 0 0 0]\n",
    " [0 7 0 0 9 0 2 0 0]\n",
    " [0 5 0 0 0 7 0 0 0]\n",
    " [0 0 0 0 4 5 7 0 0]\n",
    " [7 0 7 1 0 0 0 3 0]\n",
    " [0 0 1 0 0 0 0 6 8]\n",
    " [0 0 8 5 0 0 0 1 0]\n",
    " [0 9 0 0 0 0 4 0 0]]\n",
    "[[8 0 0 0 0 0 0 0 0]\n",
    " [0 0 3 6 0 0 0 0 0]\n",
    " [0 7 0 0 9 0 2 0 0]\n",
    " [0 5 0 0 0 7 0 0 0]\n",
    " [0 0 0 0 4 5 7 0 0]\n",
    " [0 0 0 1 0 0 0 3 0]\n",
    " [0 0 1 0 0 0 0 6 8]\n",
    " [0 0 8 5 0 0 0 1 0]\n",
    " [0 9 0 0 0 0 4 0 0]]"
   ]
  },
  {
   "cell_type": "code",
   "execution_count": 3,
   "metadata": {},
   "outputs": [
    {
     "name": "stdout",
     "output_type": "stream",
     "text": [
      "(5, 0, 3, 6, 0, 3)\n"
     ]
    }
   ],
   "source": [
    "def para(i):\n",
    "    r=i//9\n",
    "    c=i%9\n",
    "    rr=r//3\n",
    "    cr=c//3\n",
    "    rr_d=rr*3\n",
    "    rr_u=rr*3+3\n",
    "    cr_d=cr*3\n",
    "    cr_u=cr*3+3\n",
    "    return r,c,rr_d,rr_u,cr_d,cr_u\n",
    "\n",
    "print(para(45))"
   ]
  },
  {
   "cell_type": "code",
   "execution_count": 4,
   "metadata": {},
   "outputs": [],
   "source": [
    "def ql(m,i):\n",
    "    f_l=[0,1,2,3,4,5,6,7,8,9]\n",
    "    r,c,rr_d,rr_u,cr_d,cr_u=para(i)\n",
    "    a=list(set(list(m[r])+list(m[:,c])+list(m[rr_d:rr_u,cr_d:cr_u].flatten())))\n",
    "    q_l=[x for x in f_l if x not in a]\n",
    "    return q_l,r,c"
   ]
  },
  {
   "cell_type": "code",
   "execution_count": 5,
   "metadata": {},
   "outputs": [],
   "source": [
    "# 递归循环\n",
    "\n",
    "def dg(m,n,i,l,flag):\n",
    "    if flag==0:\n",
    "        for j in range(i,l+1):\n",
    "            if n[j]==0:\n",
    "                break\n",
    "        q_l,r,c=ql(m,j)\n",
    "        \n",
    "        if len(q_l)==0:\n",
    "\n",
    "            flag=-1\n",
    "            return flag\n",
    "        if j==l and len(q_l)>1:\n",
    "            flag=-1\n",
    "            return flag\n",
    "        for t in q_l:\n",
    "            m[r,c]=t\n",
    "            k=j+1\n",
    "            if k==l+1:\n",
    "                flag=1\n",
    "                return flag\n",
    "            else:\n",
    "                flag=0\n",
    "                flag=dg(m,n,k,l,flag)\n",
    "                if flag==1:\n",
    "                    break\n",
    "        if flag==-1:\n",
    "            m[r,c]=0\n",
    "            return flag\n",
    "        if flag==1:\n",
    "            return flag\n",
    "      \n"
   ]
  },
  {
   "cell_type": "code",
   "execution_count": 6,
   "metadata": {},
   "outputs": [],
   "source": [
    "# 唯一法填空\n",
    "\n",
    "def wy(m,n,l): \n",
    "    flag=0\n",
    "    for i in range(l+1):\n",
    "        if n[i]==0:\n",
    "            q_l,r,c=ql(m,i)\n",
    "            if len(q_l)==1:\n",
    "                m[r,c]=q_l[0]\n",
    "                n[i]=q_l[0]\n",
    "                flag=1\n",
    "    return m,n,flag\n",
    "\n",
    "\n"
   ]
  },
  {
   "cell_type": "code",
   "execution_count": 24,
   "metadata": {},
   "outputs": [
    {
     "name": "stdout",
     "output_type": "stream",
     "text": [
      "[1, 2, 4, 8, 1, 2, 5, 7, 8, 1, 4, 6, 7, 8, 1, 5, 6, 7, 8, 2, 4, 5, 8, 2, 4, 5, 8, 2, 5, 6, 8]\n",
      "[3, 4, 8, 3, 4, 5, 3, 5, 7, 8, 4, 5, 6, 7, 3, 4, 5, 8, 3, 4, 5, 8]\n",
      "[2, 3, 4, 5, 1, 2, 3, 5, 8, 1, 4, 5, 1, 4, 8, 1, 5, 8, 2, 3, 4, 5, 8, 9, 2, 3, 4, 5, 8, 9]\n",
      "[2, 3, 4, 8, 9, 2, 3, 6, 8, 9, 5, 6, 9, 3, 6, 2, 3, 5, 6, 2, 3, 5, 8, 2, 5, 8]\n",
      "[2, 3, 1, 2, 3, 8, 9, 1, 7, 9, 1, 3, 7, 1, 2, 3, 7, 2, 3, 7, 8]\n",
      "[1, 2, 3, 2, 3, 6, 1, 2, 3, 6, 1, 3, 6, 7, 2, 3, 5, 7, 2, 3, 5, 7]\n",
      "[3, 9, 3, 5, 9, 3, 4, 7, 8, 3, 7, 8, 4, 5, 7, 8, 9, 5, 8]\n",
      "[2, 3, 5, 6, 1, 4, 6, 1, 3, 6, 1, 2, 4, 5, 2, 4, 5, 2, 5]\n",
      "[2, 9, 2, 6, 1, 6, 7, 1, 6, 7, 8, 1, 2, 7, 8, 9, 2, 7, 8, 9]\n"
     ]
    }
   ],
   "source": [
    "# q_l唯一值填空\n",
    "\n",
    "# 生成全部字典\n",
    "dql={}\n",
    "for i in range(81):\n",
    "    if n[i]==0:\n",
    "        q_l,r,c=ql(m,i)\n",
    "        dql[i]=q_l\n",
    "\n"
   ]
  },
  {
   "cell_type": "code",
   "execution_count": 7,
   "metadata": {},
   "outputs": [],
   "source": [
    "from collections import Counter\n",
    "#横向比对\n",
    "def h_c(m,n):\n",
    "    flag=0\n",
    "    dql=dq_l(m,n)\n",
    "    for i in range(9):\n",
    "        la=[]\n",
    "        k_l=[x for x in range(9*i,9*i+9) if x in dql.keys()]\n",
    "        for k in k_l:\n",
    "            la+=dql[k]\n",
    "        ct=Counter(la)\n",
    "        lb=[]\n",
    "        \n",
    "        for j,v in ct.items():\n",
    "            if v==1:\n",
    "                lb.append(j)\n",
    "        for t in lb:\n",
    "#         if len(lb)>0:\n",
    "#             t=lb[0]\n",
    "            for k in k_l:\n",
    "                if t in dql[k]:\n",
    "                    r,c,_,_,_,_=para(k)\n",
    "                    n[k]=t\n",
    "                    m[r,c]=t\n",
    "#                     print('hc',k,r,c)\n",
    "                    k_l.remove(k)\n",
    "                    flag=1\n",
    "                    break\n",
    "            \n",
    "#     print(m)\n",
    "    dql={}\n",
    "    return m,n,flag\n",
    "    \n",
    "#纵向比对\n",
    "def v_c(m,n):\n",
    "    flag=0\n",
    "    dql=dq_l(m,n)\n",
    "    for i in range(9):\n",
    "        la=[]\n",
    "        k_l=[x for x in range(i,73+i,9) if x in dql.keys()]\n",
    "#         print(k_l)\n",
    "        for k in k_l:\n",
    "            la+=dql[k]\n",
    "        ct=Counter(la)\n",
    "#         print(k_l)\n",
    "        lb=[]\n",
    "        for j,v in ct.items():\n",
    "            if v==1:\n",
    "                lb.append(j)\n",
    "        for t in lb:\n",
    "#         if len(lb)>0:\n",
    "#             t=lb[0]\n",
    "#             print(lb)\n",
    "            for k in k_l:\n",
    "                if t in dql[k]:\n",
    "                    \n",
    "                    r,c,_,_,_,_=para(k)\n",
    "                    n[k]=t\n",
    "                    m[r,c]=t\n",
    "#                     print('vc',k,r,c)\n",
    "#                     print('bvc:',k_l)\n",
    "                    k_l.remove(k)\n",
    "#                     print('avc:',k_l)\n",
    "                    flag=1\n",
    "                    break            \n",
    "#     print(m)\n",
    "    dql={}\n",
    "    return m,n,flag\n",
    "\n",
    "#九宫格对比\n",
    "\n",
    "def n_c(m,n):\n",
    "    flag=0\n",
    "    dql=dq_l(m,n)\n",
    "    c_l=[x for x in range(0,9,3)]+[x for x in range(27,36,3)]+[x for x in range(54,63,3)]\n",
    "    for i in range(9):\n",
    "        la=[]\n",
    "        u=c_l[i]\n",
    "        n_l=[x for x in range(u,u+3)]+[x for x in range(u+9,u+12)]+[x for x in range(u+18,u+21)]\n",
    "        k_l=[x for x in n_l if x in dql.keys()]\n",
    "        for k in k_l:\n",
    "            la+=dql[k]\n",
    "        ct=Counter(la)\n",
    "        lb=[]\n",
    "        for j,v in ct.items():\n",
    "            if v==1:\n",
    "                lb.append(j)\n",
    "        for t in lb:\n",
    "#         if len(lb)>0:\n",
    "#             t=lb[0]\n",
    "            for k in k_l:\n",
    "                if t in dql[k]:\n",
    "                    r,c,_,_,_,_=para(k)\n",
    "                    n[k]=t\n",
    "                    m[r,c]=t\n",
    "#                     print('nc',k,r,c)\n",
    "                    k_l.remove(k)\n",
    "                    flag=1\n",
    "                    break     \n",
    "#     print(m)\n",
    "    dql={}\n",
    "    return m,n,flag"
   ]
  },
  {
   "cell_type": "code",
   "execution_count": 8,
   "metadata": {},
   "outputs": [],
   "source": [
    "def dq_l(m,n):\n",
    "    dql={}\n",
    "    for i in range(81):\n",
    "        if n[i]==0:\n",
    "            q_l,r,c=ql(m,i)\n",
    "            dql[i]=q_l\n",
    "    return dql"
   ]
  },
  {
   "cell_type": "code",
   "execution_count": 9,
   "metadata": {},
   "outputs": [],
   "source": [
    "def sd2(m,n):\n",
    "\n",
    "    flag=1\n",
    "    while flag==1:\n",
    "        \n",
    "        m,n,flag=h_c(m,n)\n",
    "        m,n,flag=v_c(m,n)\n",
    "        m,n,flag=n_c(m,n)\n",
    "    \n",
    "#     print(m,n)\n",
    "    for i in reversed(range(1,81)):\n",
    "        if n[i]==0:\n",
    "            l=i\n",
    "            break\n",
    "    i=0\n",
    "    flag=0\n",
    "    flag=dg(m,n,i,l,flag)\n",
    "    \n",
    "    return m"
   ]
  },
  {
   "cell_type": "code",
   "execution_count": 56,
   "metadata": {},
   "outputs": [
    {
     "name": "stdout",
     "output_type": "stream",
     "text": [
      "57\n"
     ]
    }
   ],
   "source": [
    "nl=[x for x in range(0,9,3)]+[x for x in range(27,36,3)]+[x for x in range(54,63,3)]\n",
    "t=nl[0]\n",
    "n_l=[x for x in range(t,t+3)]+[x for x in range(t+9,t+12)]+[x for x in range(t+18,t+21)]\n",
    "\n",
    "\n",
    "print(len(dql))"
   ]
  },
  {
   "cell_type": "code",
   "execution_count": 10,
   "metadata": {},
   "outputs": [],
   "source": [
    "def sd(m,n):\n",
    "    for i in reversed(range(1,81)):\n",
    "        if n[i]==0:\n",
    "            l=i\n",
    "            break\n",
    "    \n",
    "    flag=1\n",
    "    while flag==1:\n",
    "        m,n,flag=wy(m,n,l)\n",
    "    flag=0\n",
    "    i=0\n",
    "    flag=dg(m,n,i,l,flag)\n",
    "    return m"
   ]
  },
  {
   "cell_type": "code",
   "execution_count": 19,
   "metadata": {
    "scrolled": true
   },
   "outputs": [
    {
     "name": "stdout",
     "output_type": "stream",
     "text": [
      "[[8 9 1 3 4 7 2 5 6]\n",
      " [3 5 7 6 2 9 4 8 1]\n",
      " [6 4 2 5 8 1 9 3 7]\n",
      " [4 7 8 9 6 5 3 1 2]\n",
      " [5 3 9 7 1 2 8 6 4]\n",
      " [1 2 6 8 3 4 5 7 9]\n",
      " [9 1 5 2 7 3 6 4 8]\n",
      " [7 8 3 4 9 6 1 2 5]\n",
      " [2 6 4 1 5 8 7 9 3]] 2.742000102996826\n"
     ]
    }
   ],
   "source": [
    "import time\n",
    "starttime=time.time()\n",
    "i=0\n",
    "flag=0\n",
    "m2=np.array(m)\n",
    "n2=np.array(n)\n",
    "m_f=sd2(m2,n2)\n",
    "ut=time.time()-starttime\n",
    "print(m_f,ut)"
   ]
  },
  {
   "cell_type": "raw",
   "metadata": {},
   "source": [
    "sample1:\n",
    "dg1:0.06500649452209473\n",
    "dg2:0.05100512504577637\n",
    "wy:0.022002220153808594\n",
    "sd2:0.01795172691345215\n",
    "\n",
    "sample2:\n",
    "dg1:1.9511947631835938\n",
    "dg2:1.94\n",
    "wy:1.9071907997131348\n",
    "sd1:2.075000047683716\n",
    "sd2: 0.17599987983703613\n",
    "\n",
    "sample3:\n",
    "sd:3.162543773651123\n",
    "sd2:1.7303717136383057\n",
    "\n",
    "sample4:\n",
    "sd:1.093076467514038\n",
    "sd2:1.0900726318359375\n",
    "\n",
    "sample5:\n",
    "sd:1.0.21642017364501953\n",
    "sd2:0.19946599006652832"
   ]
  },
  {
   "cell_type": "code",
   "execution_count": 60,
   "metadata": {},
   "outputs": [
    {
     "name": "stdout",
     "output_type": "stream",
     "text": [
      "4\n",
      "3\n",
      "2\n",
      "1\n"
     ]
    }
   ],
   "source": [
    "[[8 9 1 3 4 7 2 5 6]\n",
    " [3 5 7 6 2 9 4 8 1]\n",
    " [6 4 2 5 8 1 9 3 7]\n",
    " [4 7 8 9 6 5 3 1 2]\n",
    " [5 3 9 7 1 2 8 6 4]\n",
    " [1 2 6 8 3 4 5 7 9]\n",
    " [9 1 5 2 7 3 6 4 8]\n",
    " [7 8 3 4 9 6 1 2 5]\n",
    " [2 6 4 1 5 8 7 9 3]] "
   ]
  },
  {
   "cell_type": "code",
   "execution_count": null,
   "metadata": {},
   "outputs": [],
   "source": []
  }
 ],
 "metadata": {
  "kernelspec": {
   "display_name": "Python 3",
   "language": "python",
   "name": "python3"
  },
  "language_info": {
   "codemirror_mode": {
    "name": "ipython",
    "version": 3
   },
   "file_extension": ".py",
   "mimetype": "text/x-python",
   "name": "python",
   "nbconvert_exporter": "python",
   "pygments_lexer": "ipython3",
   "version": "3.7.4"
  }
 },
 "nbformat": 4,
 "nbformat_minor": 2
}
